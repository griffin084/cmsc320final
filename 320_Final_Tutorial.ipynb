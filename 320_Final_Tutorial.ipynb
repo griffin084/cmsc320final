{
  "nbformat": 4,
  "nbformat_minor": 0,
  "metadata": {
    "colab": {
      "provenance": []
    },
    "kernelspec": {
      "name": "python3",
      "display_name": "Python 3"
    },
    "language_info": {
      "name": "python"
    }
  },
  "cells": [
    {
      "cell_type": "markdown",
      "source": [
        "INTRODUCTION\n",
        "\n",
        "\n",
        "As students interested in investing and markets, we were motivated to create a sentiment analyzer for equities based on news articles because it can help you make more informed investment decisions. By analyzing the sentiment contained in news articles about a particular stock, one can gain insight into the factors driving market sentiment and how it may change over time. This can help you better understand the risks and potential rewards associated with investing in a particular stock and make more informed buy or sell decisions. Additionally, creating a sentiment analyzer can also be a rewarding intellectual challenge and a great opportunity to learn more about machine learning and natural language processing.\n",
        "\n",
        "\n",
        "\n",
        "There are several potential benefits to using a sentiment analysis tool to analyze market sentiment behind certain stocks based on news articles:\n",
        "\n",
        "1. Improved decision making: Sentiment analysis can help investors and traders make more informed decisions about which stocks to buy or sell by providing insight into the overall sentiment around a particular stock.\n",
        "\n",
        "2. Increased efficiency: Rather than manually reading and analyzing a large number of news articles, a sentiment analysis tool can quickly and accurately process and summarize the sentiment contained in these articles.\n",
        "\n",
        "3. Real-time analysis: Sentiment analysis tools can analyze news articles in real-time, allowing investors and traders to stay up-to-date with the latest sentiment around a particular stock.\n",
        "\n",
        "4. Greater understanding: Sentiment analysis can help investors and traders better understand the factors driving market sentiment around a particular stock and how these sentiments may change over time.\n",
        "\n",
        "5. Enhanced risk management: By providing insight into the overall sentiment around a particular stock, sentiment analysis can help investors and traders better manage risk by identifying potential areas of market uncertainty or volatility."
      ],
      "metadata": {
        "id": "e-d7zivyG3S8"
      }
    },
    {
      "cell_type": "markdown",
      "source": [
        "The program that takes the ticker of a stock and the name of the company as input, and returns the positivity, negativity and neutral scores in the form of a plot for that stock based on articles from marketwatch.com. This program can be used to discover significant financial news articles for prospective securities. They can click the URL for the articles with the highest positivity/negativity/neutral scores and apply their human intuition on the content of the article for more insight. The Wall Street Journal recently wrote an article on the importance of tracking the sentiment of retail investors on social media networks and news articles, and this program facilitates that."
      ],
      "metadata": {
        "id": "0NGgR9bzMefi"
      }
    },
    {
      "cell_type": "code",
      "execution_count": 1,
      "metadata": {
        "colab": {
          "base_uri": "https://localhost:8080/",
          "height": 1000
        },
        "id": "pvuWDCZm5R5-",
        "outputId": "ec8ba534-5e55-41a4-9a3f-1e43883518e0"
      },
      "outputs": [
        {
          "output_type": "stream",
          "name": "stderr",
          "text": [
            "/usr/local/lib/python3.8/dist-packages/requests/__init__.py:89: RequestsDependencyWarning: urllib3 (1.26.13) or chardet (3.0.4) doesn't match a supported version!\n",
            "  warnings.warn(\"urllib3 ({}) or chardet ({}) doesn't match a supported \"\n"
          ]
        },
        {
          "output_type": "stream",
          "name": "stdout",
          "text": [
            "Looking in indexes: https://pypi.org/simple, https://us-python.pkg.dev/colab-wheels/public/simple/\n",
            "Requirement already satisfied: htmldate in /usr/local/lib/python3.8/dist-packages (1.4.0)\n",
            "Requirement already satisfied: lxml>=4.9.1 in /usr/local/lib/python3.8/dist-packages (from htmldate) (4.9.2)\n",
            "Requirement already satisfied: python-dateutil>=2.8.2 in /usr/local/lib/python3.8/dist-packages (from htmldate) (2.8.2)\n",
            "Requirement already satisfied: urllib3<2,>=1.26 in /usr/local/lib/python3.8/dist-packages (from htmldate) (1.26.13)\n",
            "Requirement already satisfied: charset-normalizer>=3.0.1 in /usr/local/lib/python3.8/dist-packages (from htmldate) (3.0.1)\n",
            "Requirement already satisfied: dateparser>=1.1.2 in /usr/local/lib/python3.8/dist-packages (from htmldate) (1.1.4)\n",
            "Requirement already satisfied: regex!=2019.02.19,!=2021.8.27 in /usr/local/lib/python3.8/dist-packages (from dateparser>=1.1.2->htmldate) (2022.6.2)\n",
            "Requirement already satisfied: pytz in /usr/local/lib/python3.8/dist-packages (from dateparser>=1.1.2->htmldate) (2022.6)\n",
            "Requirement already satisfied: tzlocal in /usr/local/lib/python3.8/dist-packages (from dateparser>=1.1.2->htmldate) (1.5.1)\n",
            "Requirement already satisfied: six>=1.5 in /usr/local/lib/python3.8/dist-packages (from python-dateutil>=2.8.2->htmldate) (1.15.0)\n",
            "Looking in indexes: https://pypi.org/simple, https://us-python.pkg.dev/colab-wheels/public/simple/\n",
            "Requirement already satisfied: transformers in /usr/local/lib/python3.8/dist-packages (4.25.1)\n",
            "Requirement already satisfied: filelock in /usr/local/lib/python3.8/dist-packages (from transformers) (3.8.2)\n",
            "Requirement already satisfied: regex!=2019.12.17 in /usr/local/lib/python3.8/dist-packages (from transformers) (2022.6.2)\n",
            "Requirement already satisfied: packaging>=20.0 in /usr/local/lib/python3.8/dist-packages (from transformers) (21.3)\n",
            "Requirement already satisfied: pyyaml>=5.1 in /usr/local/lib/python3.8/dist-packages (from transformers) (6.0)\n",
            "Requirement already satisfied: tqdm>=4.27 in /usr/local/lib/python3.8/dist-packages (from transformers) (4.64.1)\n",
            "Requirement already satisfied: huggingface-hub<1.0,>=0.10.0 in /usr/local/lib/python3.8/dist-packages (from transformers) (0.11.1)\n",
            "Requirement already satisfied: tokenizers!=0.11.3,<0.14,>=0.11.1 in /usr/local/lib/python3.8/dist-packages (from transformers) (0.13.2)\n",
            "Requirement already satisfied: numpy>=1.17 in /usr/local/lib/python3.8/dist-packages (from transformers) (1.21.6)\n",
            "Requirement already satisfied: requests in /usr/local/lib/python3.8/dist-packages (from transformers) (2.23.0)\n",
            "Requirement already satisfied: typing-extensions>=3.7.4.3 in /usr/local/lib/python3.8/dist-packages (from huggingface-hub<1.0,>=0.10.0->transformers) (4.4.0)\n",
            "Requirement already satisfied: pyparsing!=3.0.5,>=2.0.2 in /usr/local/lib/python3.8/dist-packages (from packaging>=20.0->transformers) (3.0.9)\n",
            "Collecting urllib3!=1.25.0,!=1.25.1,<1.26,>=1.21.1\n",
            "  Using cached urllib3-1.25.11-py2.py3-none-any.whl (127 kB)\n",
            "Requirement already satisfied: idna<3,>=2.5 in /usr/local/lib/python3.8/dist-packages (from requests->transformers) (2.10)\n",
            "Requirement already satisfied: certifi>=2017.4.17 in /usr/local/lib/python3.8/dist-packages (from requests->transformers) (2022.12.7)\n",
            "Requirement already satisfied: chardet<4,>=3.0.2 in /usr/local/lib/python3.8/dist-packages (from requests->transformers) (3.0.4)\n",
            "Installing collected packages: urllib3\n",
            "  Attempting uninstall: urllib3\n",
            "    Found existing installation: urllib3 1.26.13\n",
            "    Uninstalling urllib3-1.26.13:\n",
            "      Successfully uninstalled urllib3-1.26.13\n",
            "\u001b[31mERROR: pip's dependency resolver does not currently take into account all the packages that are installed. This behaviour is the source of the following dependency conflicts.\n",
            "htmldate 1.4.0 requires urllib3<2,>=1.26, but you have urllib3 1.25.11 which is incompatible.\u001b[0m\n",
            "Successfully installed urllib3-1.25.11\n"
          ]
        },
        {
          "output_type": "display_data",
          "data": {
            "application/vnd.colab-display-data+json": {
              "pip_warning": {
                "packages": [
                  "urllib3"
                ]
              }
            }
          },
          "metadata": {}
        },
        {
          "output_type": "stream",
          "name": "stdout",
          "text": [
            "Looking in indexes: https://pypi.org/simple, https://us-python.pkg.dev/colab-wheels/public/simple/\n",
            "Requirement already satisfied: htmldate[all] in /usr/local/lib/python3.8/dist-packages (1.4.0)\n",
            "Collecting urllib3<2,>=1.26\n",
            "  Using cached urllib3-1.26.13-py2.py3-none-any.whl (140 kB)\n",
            "Requirement already satisfied: lxml>=4.9.1 in /usr/local/lib/python3.8/dist-packages (from htmldate[all]) (4.9.2)\n",
            "Requirement already satisfied: dateparser>=1.1.2 in /usr/local/lib/python3.8/dist-packages (from htmldate[all]) (1.1.4)\n",
            "Requirement already satisfied: charset-normalizer>=3.0.1 in /usr/local/lib/python3.8/dist-packages (from htmldate[all]) (3.0.1)\n",
            "Requirement already satisfied: python-dateutil>=2.8.2 in /usr/local/lib/python3.8/dist-packages (from htmldate[all]) (2.8.2)\n",
            "Requirement already satisfied: cchardet>=2.1.7 in /usr/local/lib/python3.8/dist-packages (from htmldate[all]) (2.1.7)\n",
            "Requirement already satisfied: urllib3[brotli] in /usr/local/lib/python3.8/dist-packages (from htmldate[all]) (1.25.11)\n",
            "Requirement already satisfied: tzlocal in /usr/local/lib/python3.8/dist-packages (from dateparser>=1.1.2->htmldate[all]) (1.5.1)\n",
            "Requirement already satisfied: pytz in /usr/local/lib/python3.8/dist-packages (from dateparser>=1.1.2->htmldate[all]) (2022.6)\n",
            "Requirement already satisfied: regex!=2019.02.19,!=2021.8.27 in /usr/local/lib/python3.8/dist-packages (from dateparser>=1.1.2->htmldate[all]) (2022.6.2)\n",
            "Requirement already satisfied: six>=1.5 in /usr/local/lib/python3.8/dist-packages (from python-dateutil>=2.8.2->htmldate[all]) (1.15.0)\n",
            "Requirement already satisfied: brotli>=1.0.9 in /usr/local/lib/python3.8/dist-packages (from urllib3<2,>=1.26->htmldate[all]) (1.0.9)\n",
            "Installing collected packages: urllib3\n",
            "  Attempting uninstall: urllib3\n",
            "    Found existing installation: urllib3 1.25.11\n",
            "    Uninstalling urllib3-1.25.11:\n",
            "      Successfully uninstalled urllib3-1.25.11\n",
            "\u001b[31mERROR: pip's dependency resolver does not currently take into account all the packages that are installed. This behaviour is the source of the following dependency conflicts.\n",
            "requests 2.23.0 requires urllib3!=1.25.0,!=1.25.1,<1.26,>=1.21.1, but you have urllib3 1.26.13 which is incompatible.\u001b[0m\n",
            "Successfully installed urllib3-1.26.13\n"
          ]
        },
        {
          "output_type": "display_data",
          "data": {
            "application/vnd.colab-display-data+json": {
              "pip_warning": {
                "packages": [
                  "urllib3"
                ]
              }
            }
          },
          "metadata": {}
        }
      ],
      "source": [
        "#importing the necessary libraries \n",
        "import requests \n",
        "from urllib.request import urlopen\n",
        "import pandas as pd\n",
        "import re\n",
        "import html \n",
        "from bs4 import BeautifulSoup \n",
        "!pip install htmldate\n",
        "!pip install transformers\n",
        "!pip install -U htmldate[all]\n",
        "from htmldate import find_date\n",
        "from datetime import datetime\n",
        "from transformers import AutoTokenizer, AutoModelForSequenceClassification\n",
        "tokenizer = AutoTokenizer.from_pretrained(\"ProsusAI/finbert\")\n",
        "model = AutoModelForSequenceClassification.from_pretrained(\"ProsusAI/finbert\")\n",
        "from matplotlib import pyplot as plt\n",
        "import numpy as np\n",
        "from matplotlib.dates import DateFormatter\n",
        "import torch\n",
        "from sklearn import linear_model"
      ]
    },
    {
      "cell_type": "markdown",
      "source": [
        "On the software development side, during the course of this project we learned to always be cognizant of our end users . We focused on making this an on-demand tool that can be run by my users within 2–3 minutes. This constrained how much data we allowed the program to analyze due to my limited computing power.\n",
        "We also had to make sure my program is easily usable by non-technical users, since the fundamental analysts who are interested in stock research are usually Finance majors that don’t have much coding experience. As a result, we hid away most of the technical code, and only exposed an intuitive code block for users to put in inputs like the stock ticker and company name:"
      ],
      "metadata": {
        "id": "i9Do-NJcJD_a"
      }
    },
    {
      "cell_type": "code",
      "source": [
        "#Asking the user to input the ticker and company name in lowercase for processing \n",
        "ticker = input(\"Enter the stock ticker in lowercase(examples: amzn, tsla, k): \" )\n",
        "company = input(\"Enter the company name in lowercase(examples: amazon, tesla, kellogg): \")"
      ],
      "metadata": {
        "colab": {
          "base_uri": "https://localhost:8080/"
        },
        "id": "HtQIrHx15uj0",
        "outputId": "ddd1d043-8fc1-4cda-a7f3-e13de12ac47b"
      },
      "execution_count": 2,
      "outputs": [
        {
          "name": "stdout",
          "output_type": "stream",
          "text": [
            "Enter the stock ticker in lowercase(examples: amzn, tsla, k): nvda\n",
            "Enter the company name in lowercase(examples: amazon, tesla, kellogg): nvidia\n"
          ]
        }
      ]
    },
    {
      "cell_type": "markdown",
      "source": [
        "As with any Data Science project, the bulk of technical challenges came from fetching and cleaning the raw news text data to prepare it for the an appropriate sentiment analyzer model that can process words in a financial context\n",
        "\n",
        "\n",
        "It was hard to find a credible financial news source that would also allow one to scrape content from its website. After unsuccessful attempts at scraping news articles from nasdaq.com and benzinga.com due to their anti-scraping mechanism, we finally found a perfect solution using marketwatch.com as they not only have credible news articles but also believe in open data access.\n"
      ],
      "metadata": {
        "id": "xj5tP-7kHFoq"
      }
    },
    {
      "cell_type": "code",
      "source": [
        "#Specifying the skeleton of the html link for all stocks on marketwatch.com with just the ticker being different for each stock\n",
        "news_url = 'https://www.marketwatch.com/investing/stock/' + ticker + '?mod=quote_search'"
      ],
      "metadata": {
        "id": "Px7ltHcG5vDp"
      },
      "execution_count": 3,
      "outputs": []
    },
    {
      "cell_type": "code",
      "source": [
        "#Getting the html code for the webpage pertaining to the html link \n",
        "html = requests.get(news_url).content\n",
        "    \n",
        "#Converting the html code to a beautiful soup object \n",
        "soup = BeautifulSoup(html , 'lxml')\n",
        "\n",
        "#Getting a list of all links on the webpage \n",
        "links = soup.find_all('a')"
      ],
      "metadata": {
        "id": "m58N1ng05vy2"
      },
      "execution_count": 4,
      "outputs": []
    },
    {
      "cell_type": "code",
      "source": [
        "#Searching for the destination of the required hyperlinks on the webpage \n",
        "urls = []\n",
        "for link in links:\n",
        "    urls.append(link.get('href'))"
      ],
      "metadata": {
        "id": "SXjYAytb5vts"
      },
      "execution_count": 5,
      "outputs": []
    },
    {
      "cell_type": "markdown",
      "source": [
        "None values made our code more error-prone. We ended up with a runtime error and unexpected behavior in our code. This then got us to handling the None values in our code. "
      ],
      "metadata": {
        "id": "qJ8882N7KDQX"
      }
    },
    {
      "cell_type": "code",
      "source": [
        "#Selecting the links that are not None \n",
        "urls1 = []\n",
        "for url in urls:\n",
        "    if url is not None:\n",
        "       urls1.append(url)"
      ],
      "metadata": {
        "id": "4Zb0gutN5wyF"
      },
      "execution_count": 6,
      "outputs": []
    },
    {
      "cell_type": "markdown",
      "source": [
        "We only wanted links that pertain to news articles and so we added a filter where we only scrape the links that begin with \"https\". Further the news links from fool.com were giving us errors possibly due to security reasons. Therefore we also avoided those news articles. "
      ],
      "metadata": {
        "id": "l4BRJ5nuMxUJ"
      }
    },
    {
      "cell_type": "code",
      "source": [
        "#Selectng the urls that begin with \"https\" \n",
        "news_urls = []\n",
        "substring = 'https://'\n",
        "substring1 = 'fool.com'\n",
        "for url in urls1:\n",
        "    if substring in url and substring1 not in url:\n",
        "       news_urls.append(url)"
      ],
      "metadata": {
        "id": "F2-7bp5I5wvP"
      },
      "execution_count": 7,
      "outputs": []
    },
    {
      "cell_type": "markdown",
      "source": [
        "While scrapping the news articles, we noticed that our code scrapes news articles that are not related to the company we want and are random articles on the webpage. This is why we decided to add another layer of filteration and only scrape the news article links that contain the name of the company that the user inputs. "
      ],
      "metadata": {
        "id": "WemJkGMONOS7"
      }
    },
    {
      "cell_type": "code",
      "source": [
        "#Selecting the urls that pertain to the stock articles of the required company \n",
        "company_news_urls = []\n",
        "substring2 = company\n",
        "for url in news_urls:\n",
        "    if substring2 in url:\n",
        "       company_news_urls.append(url)"
      ],
      "metadata": {
        "id": "PpauJUvd5wtC"
      },
      "execution_count": 8,
      "outputs": []
    },
    {
      "cell_type": "markdown",
      "source": [
        "While scrapping news links we saw that our code scraps multiple same news links. This is a common occurance when scraping data from an html file. We decided to remove the duplicate news links so that each article is only present once in our dataset"
      ],
      "metadata": {
        "id": "Eah82o3fNj3L"
      }
    },
    {
      "cell_type": "code",
      "source": [
        "#Removing the duplicate urls for any given article link scrapped\n",
        "links_unique = []\n",
        "for x in company_news_urls:\n",
        "    if x not in links_unique and x is not None:\n",
        "       links_unique.append(x)\n",
        "\n",
        "dates = []"
      ],
      "metadata": {
        "id": "PU5-EomV5wqv"
      },
      "execution_count": 9,
      "outputs": []
    },
    {
      "cell_type": "markdown",
      "source": [
        "We decided to get the date of publication of the articles so that we can use it while plotting our finindings. When the end user sees the date corresponding to a particular article, it can affect his/her opionion as finance is a very time sensitive industry and sentiments can change very quickly. "
      ],
      "metadata": {
        "id": "iVJyR0ycOtLt"
      }
    },
    {
      "cell_type": "code",
      "source": [
        "#Getting the publishing dates of the scrapped articles \n",
        "for link in links_unique:\n",
        "    date = find_date(link)\n",
        "    dates.append(date)"
      ],
      "metadata": {
        "id": "FiawzgTy5woD"
      },
      "execution_count": 10,
      "outputs": []
    },
    {
      "cell_type": "code",
      "source": [
        "#Initializing a list to store the news text present in the scrapped links\n",
        "news_text_list = []\n",
        "for url in links_unique:\n",
        "\n",
        "    #Getting the html code for the webpages that have the news text \n",
        "    r = requests.get(url,headers = {'User-Agent': 'Popular browser\\'s user-agent',}).content\n",
        "        \n",
        "    #Handling the html code for these news articles using the lxml interface to parse the content to beautiful soup\n",
        "    news_soup = BeautifulSoup(r , 'lxml')\n",
        "     \n",
        "    #Locating the different paragraphs in the article and concatinating them into a string paragraph\n",
        "    paragraphs = [par.text for par in news_soup.find_all('p')]\n",
        "    news_text = '\\n'.join(paragraphs)\n",
        "    \n",
        "    #Appending the final news text into the news text list \n",
        "    news_text_list.append(news_text)"
      ],
      "metadata": {
        "id": "gEWZfl675wlj"
      },
      "execution_count": 11,
      "outputs": []
    },
    {
      "cell_type": "code",
      "source": [
        "#Creating a pandas dataframe to store data \n",
        "df = pd.DataFrame()\n",
        "\n",
        "#Creating a column to store the links for the various scrapped articles\n",
        "df['News links'] = links_unique\n",
        "\n",
        "#Creating a column that stores the news text of the various articles\n",
        "df['News text'] = news_text_list\n",
        "\n",
        "#Creating a column to store the publishing fdate of the scrapped articles \n",
        "df['Date'] = dates"
      ],
      "metadata": {
        "id": "mA1eg6Ou5wjD"
      },
      "execution_count": 12,
      "outputs": []
    },
    {
      "cell_type": "markdown",
      "source": [
        "Data cleaning being one of the most important tasks in any data science project, was something we addressed in this project as well.\n",
        "For each news article we cleant the raw text by applying the following cleaning procedures:\n",
        "\n",
        "1. Tokenizing words\n",
        "\n",
        "2. Removing URL links\n",
        "\n",
        "3. Removing newline and whitespace characters\n",
        " \n",
        "The reason we laid emphasis on cleaning the data is because we wanted to remove all the unnecessary data/noise present in the data in order to get the most accurate results possible from our NLP model.\n"
      ],
      "metadata": {
        "id": "582Z2HYJHSoc"
      }
    },
    {
      "cell_type": "code",
      "source": [
        "#Basic data cleaning steps \n",
        "for index, row in df.iterrows():\n",
        "    #Removing newline characters\n",
        "    row['News text'] = row['News text'].replace(\"\\n\", \"\")\n",
        "    #Removing whitespace characters\n",
        "    row['News text'] = \" \".join(row['News text'].split())\n",
        "    #Removing links that are not relavant to the text\n",
        "    row['News text'] = re.sub(r'http\\S+', '', row['News text'])"
      ],
      "metadata": {
        "id": "BQOQvKsj5wgE"
      },
      "execution_count": 13,
      "outputs": []
    },
    {
      "cell_type": "markdown",
      "source": [
        "**Finding an appropriate model that can work for financial jargon**\n",
        "\n",
        "This part of the project was where we had major technical roadblocks as we could not find appropriate readymade datasets on financial lexical sentiment. After a lot of digging we decided it is best to use FinBERT which is a pre-trained, open source NLP model to analyze sentiment of financial text developed by GOOGLE. This made the entire process a lot more straightforward and we had to just ensure that our data is modified well enough in order to be run through the model.\n"
      ],
      "metadata": {
        "id": "SCWaaJ8_HgEa"
      }
    },
    {
      "cell_type": "code",
      "source": [
        "#Tokenizing the words to help the NLP model in interpreting the meaning of the text by analyzing the sequence of the words.\n",
        "inputs = tokenizer(news_text_list, padding = True, truncation = True, return_tensors='pt')\n",
        "\n",
        "#Running the tokenized text through the FinBERT NLP model \n",
        "outputs = model(**inputs)\n",
        "\n",
        "#Generating the sentiment score predictions for these news articles \n",
        "predictions = torch.nn.functional.softmax(outputs.logits, dim=-1)\n",
        "\n",
        "#Storing the positive, negatibve and neutral scores for each article into seperate lists\n",
        "positive = predictions[:, 0].tolist()\n",
        "negative = predictions[:, 1].tolist()\n",
        "neutral = predictions[:, 2].tolist()"
      ],
      "metadata": {
        "id": "JhpLO4cE5wX8"
      },
      "execution_count": 14,
      "outputs": []
    },
    {
      "cell_type": "code",
      "source": [
        "#Creating a dataframe that has the news text, publishing date and the respective sentiment scores on it \n",
        "table = {'News Text':news_text_list,\n",
        "         \"Positive\":positive,\n",
        "         \"Negative\":negative, \n",
        "         \"Neutral\":neutral}\n",
        "df = pd.DataFrame(table, columns = [\"News Text\", \"Date\", \"Positive\", \"Negative\", \"Neutral\"])\n",
        "df['Date'] = dates\n",
        "df['Article link'] = links_unique"
      ],
      "metadata": {
        "id": "fHAJW5Xp5wVD"
      },
      "execution_count": 15,
      "outputs": []
    },
    {
      "cell_type": "markdown",
      "source": [
        "We decided to plot an additional plot that displays the average sentiment score of the particular stock that the user inputs. In order to do this we had to calculate the average positive, neutral and negative sentiment scores."
      ],
      "metadata": {
        "id": "qWZpu_IKSMEd"
      }
    },
    {
      "cell_type": "code",
      "source": [
        "#Finding the average of the different sentiment scores for all the scrapped articles \n",
        "Negative_score = df['Negative'].values.tolist()\n",
        "Negative_sum = sum(Negative_score)\n",
        "Negative_sum /= df.shape[0]\n",
        "Positive_score = df['Positive'].values.tolist()\n",
        "Positive_sum = sum(Positive_score)\n",
        "Positive_sum /= df.shape[0]\n",
        "Neutral_score = df['Neutral'].values.tolist()\n",
        "Neutral_sum = sum(Neutral_score)\n",
        "Neutral_sum /= df.shape[0]"
      ],
      "metadata": {
        "id": "I0IWm8t25wSq"
      },
      "execution_count": 16,
      "outputs": []
    },
    {
      "cell_type": "markdown",
      "source": [
        "We decided to sort the values by date so that the user can see the latest news articles grouped together and not spend time manually looking for them."
      ],
      "metadata": {
        "id": "sGA-uebQSlQT"
      }
    },
    {
      "cell_type": "code",
      "source": [
        "#Sorting the data in the data frame by date of publication \n",
        "df = df.sort_values(by ='Date')\n",
        "\n",
        "#Converting the dates to a date-time object and storing the scores and dates in respective lists \n",
        "df['Date'] = pd.to_datetime(df['Date']).dt.date\n",
        "negative_score = df['Negative']\n",
        "positive_score = df['Positive']\n",
        "neutral_score = df['Neutral']\n",
        "dates_list = df['Date']\n",
        "links_final = df['Article link']"
      ],
      "metadata": {
        "id": "jy57omT65vAa"
      },
      "execution_count": 17,
      "outputs": []
    },
    {
      "cell_type": "markdown",
      "source": [
        "To plot the sentiment scores we decided to use red for negative sentiment scores, green for the positive ones and blue for the neutral ones. A bar plot was the most logical to use in this scenario. "
      ],
      "metadata": {
        "id": "CXW7is5hS5Xy"
      }
    },
    {
      "cell_type": "code",
      "source": [
        "#Creating a plot using matplotlib\n",
        "plt.figure(figsize = (20,6))\n",
        "\n",
        "#getting the number of x axis values that need to be plotted and specifying the width of the bars in the plot\n",
        "N = len(dates_list)\n",
        "ind = np.arange(N) \n",
        "width = 0.25\n",
        "  \n",
        "#Representing the positive scores in a green bar \n",
        "xvals = positive_score\n",
        "bar1 = plt.bar(ind, xvals, width, color = 'g')\n",
        "\n",
        "#Representing the neutral scores in a blue bar \n",
        "zvals = neutral_score\n",
        "bar3 = plt.bar(ind+width, zvals, width, color = 'b')\n",
        "\n",
        "#Representing the negative scores in a red bar \n",
        "yvals = negative_score\n",
        "bar2 = plt.bar(ind+width*2, yvals, width, color='r')\n",
        "  \n",
        "#Labelling the axis and the title of the plot\n",
        "plt.xlabel(\"Dates\")\n",
        "plt.ylabel('Scores')\n",
        "plt.title(\"Sentiment Scores\")\n",
        "\n",
        "#Making certain orientation adjustments and creating a legend for the plot\n",
        "plt.xticks(ind+width,dates_list)\n",
        "plt.xticks(rotation=60)\n",
        "plt.legend((bar1, bar3, bar2), ('Positive Score', 'Neutral Score', 'Negative Score'))\n",
        "plt.show()\n",
        "\n",
        "\n",
        "#Printing a newline\n",
        "print()\n",
        "\n",
        "#Printing the dates and links in the dataframe\n",
        "for i in range (0,len(dates_list)):\n",
        "    print(dates_list[i].strftime('%Y-%m-%d') + ' , ' + links_final[i] + \"\\n\")\n",
        "\n",
        "#Printing a newline\n",
        "print()"
      ],
      "metadata": {
        "id": "hCCBj9hJ_qcY",
        "colab": {
          "base_uri": "https://localhost:8080/",
          "height": 757
        },
        "outputId": "f150a4fc-9912-49ab-f08f-b5d3068670a4"
      },
      "execution_count": 18,
      "outputs": [
        {
          "output_type": "display_data",
          "data": {
            "text/plain": [
              "<Figure size 1440x432 with 1 Axes>"
            ],
            "image/png": "[encoded data removed]"
          },
          "metadata": {
            "needs_background": "light"
          }
        },
        {
          "output_type": "stream",
          "name": "stdout",
          "text": [
            "\n",
            "2022-12-16 , https://www.marketwatch.com/story/nvidia-corp-stock-falls-friday-underperforms-market-01671228847-c1423b84bd97?mod=mw_quote_news\n",
            "\n",
            "2022-12-16 , https://www.marketwatch.com/articles/nvidia-amd-qualcomm-chip-stocks-51671214521?mod=mw_quote_news\n",
            "\n",
            "2022-12-15 , https://www.marketwatch.com/story/nvidia-corp-stock-falls-thursday-underperforms-market-01671142478-28a622ea578c?mod=mw_quote_news\n",
            "\n",
            "2022-12-14 , https://www.marketwatch.com/story/nvidia-corp-stock-falls-wednesday-underperforms-market-01671056082-f61fe8a4906f?mod=mw_quote_news\n",
            "\n",
            "2022-12-13 , https://www.marketwatch.com/story/nvidia-corp-stock-rises-tuesday-outperforms-market-01670969690-c9f96c05c7be?mod=mw_quote_news\n",
            "\n",
            "2022-12-12 , https://www.marketwatch.com/story/why-nvidia-is-this-analysts-top-stock-pick-for-2023-11670870363?mod=mw_quote_news\n",
            "\n",
            "2022-12-12 , https://www.marketwatch.com/story/nvidia-corp-stock-rises-monday-outperforms-market-01670883290-e84601734d52?mod=mw_quote_news\n",
            "\n",
            "2022-12-12 , https://www.marketwatch.com/articles/nvidia-chip-stock-buy-nvda-51670863964?mod=mw_quote_news\n",
            "\n",
            "2022-12-15 , https://www.benzinga.com/trading-ideas/movers/22/12/30094233/why-nvidia-shares-are-getting-hammered?utm_campaign=partner_feed&utm_source=MarketWatch&utm_medium=partner_feed&utm_content=site&mod=mw_quote_news\n",
            "\n",
            "2022-12-14 , https://www.benzinga.com/trading-ideas/movers/22/12/30082176/whats-going-on-with-amd-and-nvidia-shares?utm_campaign=partner_feed&utm_source=MarketWatch&utm_medium=partner_feed&utm_content=site&mod=mw_quote_news\n",
            "\n",
            "\n"
          ]
        }
      ]
    },
    {
      "cell_type": "code",
      "source": [
        "plt.figure(2, figsize = (20,6))\n",
        "#getting the number of x axis values that need to be plotted and specifying the width of the bars in the plot\n",
        "M = 1\n",
        "ind = np.arange(M) \n",
        "width = 0.7\n",
        "  \n",
        "#Representing the positive scores in a green bar \n",
        "xvals = Positive_sum\n",
        "bar1 = plt.bar(ind, xvals, width, color = 'g')\n",
        "\n",
        "#Representing the neutral scores in a blue bar \n",
        "zvals = Neutral_sum\n",
        "bar3 = plt.bar(ind+width, zvals, width, color = 'b')\n",
        "\n",
        "#Representing the negative scores in a red bar \n",
        "yvals = Negative_sum\n",
        "bar2 = plt.bar(ind+width*2, yvals, width, color='r')\n",
        "  \n",
        "#Labelling the axis and the title of the plot\n",
        "plt.xlabel(\"Date range from \" + str(dates_list[0]) + \" to \" + str(dates_list[N-1]))\n",
        "plt.ylabel('Scores')\n",
        "plt.title(\"Average Sentiment Scores for range \" + str(dates_list[0]) + \"to\" + str(dates_list[N-1]))\n",
        "\n",
        "#Making certain orientation adjustments and creating a legend for the plot\n",
        "plt.xticks([])\n",
        "plt.legend((bar1, bar3, bar2), ('Positive Score', 'Neutral Score', 'Negative Score'))\n",
        "plt.show()"
      ],
      "metadata": {
        "id": "Dl5Sk_US_qXH",
        "colab": {
          "base_uri": "https://localhost:8080/",
          "height": 297
        },
        "outputId": "aa74eb86-57e9-44fc-9639-b538b13d51e1"
      },
      "execution_count": 19,
      "outputs": [
        {
          "output_type": "display_data",
          "data": {
            "text/plain": [
              "<Figure size 1440x432 with 1 Axes>"
            ],
            "image/png": "[encoded data removed]"
          },
          "metadata": {
            "needs_background": "light"
          }
        }
      ]
    },
    {
      "cell_type": "markdown",
      "source": [
        "**Things learnt**\n",
        " \n",
        "On the data science side, We learnt a lot about picking the right data. The time constraint of 2–3 minutes for the entire program forced me to pick only the highest-leverage data, which happened to be the default ~ plain news texts pertaining to stocks.\n",
        "We also learned about the importance of cleaning data especially when running your data through a pre-trained model. Data cleaning is important because it improves your data quality and in doing so, increases overall productivity of the program. Incorrect data may lead to the model making bad decisions. Cleaning the data requires removal of duplications, removing or replacing missing entries, correcting misfielded values, ensuring consistent formatting and a host of other tasks which take a considerable amount of time but are essential to any data science project.\n",
        "Further we learned about the importance of delivering final results that are visually appealing to the user. The use of plots to depict sentiment scores help in showing a large amount of data quickly in a way that is easy to process, without distracting people with a bunch of numbers. Further we also decided to include a plot for the average sentiment scores of the stock for a particular time period as a bonus!\n"
      ],
      "metadata": {
        "id": "_YGsLKfYHrvq"
      }
    },
    {
      "cell_type": "markdown",
      "source": [
        "# Hypothesis Test: Part 1\n",
        "Cleaning the Data\n",
        "\n",
        "This hypothesis test uses a linear regression model to find a trend in the sentiment score vs the actual percent changes over the course of 5 days. We chose to perform this kind of test to determine if the calculated sentiment score had a measureable association with the actual stock trading price for five stocks each day. This model has scores from December 7, 8, 9, 12, and 13 in 2022 and looks for relationships with Verizon, Pfizer, Meta, Nvidia, and Chevron stocks. After downloading the opening and closing price for each of the five stocks from yahoo finance, we were able to compute the percent change of each stock for each day and match it to the program's sentiment score. A linear regression formula was able to compute an r-squared value, allowing us to determine how correlated these two values are.\n"
      ],
      "metadata": {
        "id": "o3672wxuC1cw"
      }
    },
    {
      "cell_type": "code",
      "source": [
        "#Importing the data from csv files to pandas dataframes\n",
        "verizon_table = pd.read_csv('VZ.csv')\n",
        "pfizer_table = pd.read_csv('PFE.csv')\n",
        "meta_table = pd.read_csv('META.csv')\n",
        "nvidia_table = pd.read_csv('NVDA.csv')\n",
        "chevron_table = pd.read_csv('CVX.csv')"
      ],
      "metadata": {
        "id": "qxW8ldZ5DC9U"
      },
      "execution_count": 20,
      "outputs": []
    },
    {
      "cell_type": "code",
      "source": [
        "#Cleaning up the data to only contain the values that we want, the date, open, and close values between \n",
        "#December 7, 2022 and December 13, 2022\n",
        "verizon_table = verizon_table[247:252]\n",
        "verizon_table.drop(['High','Low','Adj Close', 'Volume'],axis=1,inplace=True)\n",
        "verizon_table = verizon_table.reset_index()\n",
        "\n",
        "pfizer_table = pfizer_table[247:252]\n",
        "pfizer_table.drop(['High','Low','Adj Close', 'Volume'],axis=1,inplace=True)\n",
        "pfizer_table = pfizer_table.reset_index()\n",
        "\n",
        "meta_table = meta_table[247:252]\n",
        "meta_table.drop(['High','Low','Adj Close', 'Volume'],axis=1,inplace=True)\n",
        "meta_table = meta_table.reset_index()\n",
        "\n",
        "nvidia_table = nvidia_table[247:252]\n",
        "nvidia_table.drop(['High','Low','Adj Close', 'Volume'],axis=1,inplace=True)\n",
        "nvidia_table = nvidia_table.reset_index()\n",
        "\n",
        "chevron_table = chevron_table[247:252]\n",
        "chevron_table.drop(['High','Low','Adj Close', 'Volume'],axis=1,inplace=True)\n",
        "chevron_table = chevron_table.reset_index()"
      ],
      "metadata": {
        "id": "ZvcH3aKWDWaa",
        "colab": {
          "base_uri": "https://localhost:8080/"
        },
        "outputId": "bb4b9ba4-a92b-49dd-9260-ad371743aebc"
      },
      "execution_count": 21,
      "outputs": [
        {
          "output_type": "stream",
          "name": "stderr",
          "text": [
            "/usr/local/lib/python3.8/dist-packages/pandas/core/frame.py:4906: SettingWithCopyWarning: \n",
            "A value is trying to be set on a copy of a slice from a DataFrame\n",
            "\n",
            "See the caveats in the documentation: https://pandas.pydata.org/pandas-docs/stable/user_guide/indexing.html#returning-a-view-versus-a-copy\n",
            "  return super().drop(\n"
          ]
        }
      ]
    },
    {
      "cell_type": "code",
      "source": [
        "#Combining each table into one pandas dataframe\n",
        "table = pd.concat([verizon_table, pfizer_table, meta_table, nvidia_table, chevron_table])\n",
        "table.insert(0,'Stock', '')\n",
        "table = table.reset_index()\n",
        "table.drop(['index', 'level_0'], axis=1, inplace=True)\n",
        "\n",
        "table.loc[[0,1,2,3,4], 'Stock'] = 'Verizon'\n",
        "table.loc[[5,6,7,8,9], 'Stock'] = 'Pfizer'\n",
        "table.loc[[10,11,12,13,14], 'Stock'] = 'Meta'\n",
        "table.loc[[15,16,17,18,19], 'Stock'] = 'Nvidia'\n",
        "table.loc[[20,21,22,23,24], 'Stock'] = 'Chevron'"
      ],
      "metadata": {
        "id": "86A2xibkDXB4"
      },
      "execution_count": 22,
      "outputs": []
    },
    {
      "cell_type": "code",
      "source": [
        "#Adding a percent change column to each table\n",
        "table['Percent Change'] = 0.0\n",
        "\n",
        "#Computing the percentage change on the day for each stock and adding it to table\n",
        "for i in range(0, 25):\n",
        "    table.loc[i, 'Percent Change'] = (\n",
        "        (table.loc[i, 'Open'] - table.loc[i, 'Close']) / table.loc[i, 'Open']) * 100"
      ],
      "metadata": {
        "id": "951KWntEDe1E"
      },
      "execution_count": 23,
      "outputs": []
    },
    {
      "cell_type": "markdown",
      "source": [
        "The data for this hypothesis test was collected at the end of the day on December 13, 2022. Since the program continuously updates the articles checked, the data had to be inputted manually and collected at a specific time. Below are the scores for the positive, negative, and neutral values. "
      ],
      "metadata": {
        "id": "yAVGiTUSQVke"
      }
    },
    {
      "cell_type": "code",
      "source": [
        "#Adding the average delta score and neutral score for stocks on each day manually.\n",
        "verizon_positive = [0.028, 0.031, 0.008, 0.426, 0.021]\n",
        "verizon_negative = [-0.174, -0.943, -0.974, -0.542, -0.968]\n",
        "verizon_neutral = [0.798, 0.025, 0.017, 0.032, 0.012]\n",
        "\n",
        "pfizer_positive = [0.179, 0.428, 0.212, 0.418, 0.648]\n",
        "pfizer_negative = [-0.726, -0.539, -0.241, -0.046, -0.027]\n",
        "pfizer_neutral = [0.206, 0.113, 0.546, 0.536, 0.324]\n",
        "\n",
        "meta_positive = [0.007, 0.402, 0.091, 0.349, 0.259]\n",
        "meta_negative = [-0.93, -0.201, -0.766, -0.273, -0.411]\n",
        "meta_neutral = [0.084, 0.538, 0.219, 0.376, 0.33]\n",
        "\n",
        "nvidia_positive = [0.012, 0.014, 0.347,  0.297, 0.442]\n",
        "nvidia_negative = [-0.954, -0.612, -0.975, -0.2495, -0.5315]\n",
        "nvidia_neutral = [0.031, 0.041, 0.018, 0.446, 0.027]\n",
        "\n",
        "chevron_positive = [0.024, 0.044, 0.075, 0.581, 0.353]\n",
        "chevron_negative = [-0.947, -0.929, -0.497, -0.165, -0.042]\n",
        "chevron_neutral = [0.029, 0.031, 0.428, 0.254, 0.605]\n",
        "\n",
        "#Combining all positive, negative, and neutral score arrays in the correct order\n",
        "positives = verizon_positive + pfizer_positive + meta_positive + nvidia_positive + chevron_positive\n",
        "negatives = verizon_negative + pfizer_negative + meta_negative + nvidia_negative + chevron_negative\n",
        "neutrals = verizon_neutral + pfizer_neutral + meta_neutral + nvidia_neutral + chevron_neutral\n",
        "\n",
        "#Adding the ordered list of values to the table\n",
        "table['Positive Score'] = positives\n",
        "table['Negative Score'] = negatives\n",
        "table['Neutral Score'] = neutrals\n",
        "\n",
        "table"
      ],
      "metadata": {
        "id": "nqq-_oC7DgLy",
        "colab": {
          "base_uri": "https://localhost:8080/",
          "height": 877
        },
        "outputId": "4d3ed69a-dcdb-4a36-ec54-61ba79f1571a"
      },
      "execution_count": 24,
      "outputs": [
        {
          "output_type": "execute_result",
          "data": {
            "text/plain": [
              "      Stock        Date        Open       Close  Percent Change  \\\n",
              "0   Verizon  2022-12-07   36.740002   37.169998       -1.170376   \n",
              "1   Verizon  2022-12-08   37.110001   37.099998        0.026955   \n",
              "2   Verizon  2022-12-09   37.209999   37.400002       -0.510624   \n",
              "3   Verizon  2022-12-12   37.689999   37.950001       -0.689843   \n",
              "4   Verizon  2022-12-13   38.389999   37.860001        1.380563   \n",
              "5    Pfizer  2022-12-07   49.750000   50.240002       -0.984929   \n",
              "6    Pfizer  2022-12-08   50.180000   51.779999       -3.188519   \n",
              "7    Pfizer  2022-12-09   51.750000   51.720001        0.057969   \n",
              "8    Pfizer  2022-12-12   52.119999   52.160000       -0.076748   \n",
              "9    Pfizer  2022-12-13   53.099998   53.070000        0.056493   \n",
              "10     Meta  2022-12-07  113.760002  113.930000       -0.149436   \n",
              "11     Meta  2022-12-08  116.389999  115.330002        0.910729   \n",
              "12     Meta  2022-12-09  115.300003  115.900002       -0.520381   \n",
              "13     Meta  2022-12-12  115.180000  114.709999        0.408058   \n",
              "14     Meta  2022-12-13  122.129997  120.150002        1.621219   \n",
              "15   Nvidia  2022-12-07  157.720001  161.199997       -2.206439   \n",
              "16   Nvidia  2022-12-08  162.729996  171.690002       -5.506057   \n",
              "17   Nvidia  2022-12-09  171.600006  170.009995        0.926580   \n",
              "18   Nvidia  2022-12-12  170.369995  175.350006       -2.923056   \n",
              "19   Nvidia  2022-12-13  185.309998  180.720001        2.476929   \n",
              "20  Chevron  2022-12-07  171.059998  172.520004       -0.853505   \n",
              "21  Chevron  2022-12-08  176.250000  173.539993        1.537593   \n",
              "22  Chevron  2022-12-09  172.300003  168.000000        2.495649   \n",
              "23  Chevron  2022-12-12  168.929993  169.750000       -0.485412   \n",
              "24  Chevron  2022-12-13  173.570007  173.529999        0.023050   \n",
              "\n",
              "    Positive Score  Negative Score  Neutral Score  \n",
              "0            0.028         -0.1740          0.798  \n",
              "1            0.031         -0.9430          0.025  \n",
              "2            0.008         -0.9740          0.017  \n",
              "3            0.426         -0.5420          0.032  \n",
              "4            0.021         -0.9680          0.012  \n",
              "5            0.179         -0.7260          0.206  \n",
              "6            0.428         -0.5390          0.113  \n",
              "7            0.212         -0.2410          0.546  \n",
              "8            0.418         -0.0460          0.536  \n",
              "9            0.648         -0.0270          0.324  \n",
              "10           0.007         -0.9300          0.084  \n",
              "11           0.402         -0.2010          0.538  \n",
              "12           0.091         -0.7660          0.219  \n",
              "13           0.349         -0.2730          0.376  \n",
              "14           0.259         -0.4110          0.330  \n",
              "15           0.012         -0.9540          0.031  \n",
              "16           0.014         -0.6120          0.041  \n",
              "17           0.347         -0.9750          0.018  \n",
              "18           0.297         -0.2495          0.446  \n",
              "19           0.442         -0.5315          0.027  \n",
              "20           0.024         -0.9470          0.029  \n",
              "21           0.044         -0.9290          0.031  \n",
              "22           0.075         -0.4970          0.428  \n",
              "23           0.581         -0.1650          0.254  \n",
              "24           0.353         -0.0420          0.605  "
            ],
            "text/html": [
              "\n",
              "  <div id=\"df-b7005b7b-e5b3-4891-8911-d9cb56ae4958\">\n",
              "    <div class=\"colab-df-container\">\n",
              "      <div>\n",
              "<style scoped>\n",
              "    .dataframe tbody tr th:only-of-type {\n",
              "        vertical-align: middle;\n",
              "    }\n",
              "\n",
              "    .dataframe tbody tr th {\n",
              "        vertical-align: top;\n",
              "    }\n",
              "\n",
              "    .dataframe thead th {\n",
              "        text-align: right;\n",
              "    }\n",
              "</style>\n",
              "<table border=\"1\" class=\"dataframe\">\n",
              "  <thead>\n",
              "    <tr style=\"text-align: right;\">\n",
              "      <th></th>\n",
              "      <th>Stock</th>\n",
              "      <th>Date</th>\n",
              "      <th>Open</th>\n",
              "      <th>Close</th>\n",
              "      <th>Percent Change</th>\n",
              "      <th>Positive Score</th>\n",
              "      <th>Negative Score</th>\n",
              "      <th>Neutral Score</th>\n",
              "    </tr>\n",
              "  </thead>\n",
              "  <tbody>\n",
              "    <tr>\n",
              "      <th>0</th>\n",
              "      <td>Verizon</td>\n",
              "      <td>2022-12-07</td>\n",
              "      <td>36.740002</td>\n",
              "      <td>37.169998</td>\n",
              "      <td>-1.170376</td>\n",
              "      <td>0.028</td>\n",
              "      <td>-0.1740</td>\n",
              "      <td>0.798</td>\n",
              "    </tr>\n",
              "    <tr>\n",
              "      <th>1</th>\n",
              "      <td>Verizon</td>\n",
              "      <td>2022-12-08</td>\n",
              "      <td>37.110001</td>\n",
              "      <td>37.099998</td>\n",
              "      <td>0.026955</td>\n",
              "      <td>0.031</td>\n",
              "      <td>-0.9430</td>\n",
              "      <td>0.025</td>\n",
              "    </tr>\n",
              "    <tr>\n",
              "      <th>2</th>\n",
              "      <td>Verizon</td>\n",
              "      <td>2022-12-09</td>\n",
              "      <td>37.209999</td>\n",
              "      <td>37.400002</td>\n",
              "      <td>-0.510624</td>\n",
              "      <td>0.008</td>\n",
              "      <td>-0.9740</td>\n",
              "      <td>0.017</td>\n",
              "    </tr>\n",
              "    <tr>\n",
              "      <th>3</th>\n",
              "      <td>Verizon</td>\n",
              "      <td>2022-12-12</td>\n",
              "      <td>37.689999</td>\n",
              "      <td>37.950001</td>\n",
              "      <td>-0.689843</td>\n",
              "      <td>0.426</td>\n",
              "      <td>-0.5420</td>\n",
              "      <td>0.032</td>\n",
              "    </tr>\n",
              "    <tr>\n",
              "      <th>4</th>\n",
              "      <td>Verizon</td>\n",
              "      <td>2022-12-13</td>\n",
              "      <td>38.389999</td>\n",
              "      <td>37.860001</td>\n",
              "      <td>1.380563</td>\n",
              "      <td>0.021</td>\n",
              "      <td>-0.9680</td>\n",
              "      <td>0.012</td>\n",
              "    </tr>\n",
              "    <tr>\n",
              "      <th>5</th>\n",
              "      <td>Pfizer</td>\n",
              "      <td>2022-12-07</td>\n",
              "      <td>49.750000</td>\n",
              "      <td>50.240002</td>\n",
              "      <td>-0.984929</td>\n",
              "      <td>0.179</td>\n",
              "      <td>-0.7260</td>\n",
              "      <td>0.206</td>\n",
              "    </tr>\n",
              "    <tr>\n",
              "      <th>6</th>\n",
              "      <td>Pfizer</td>\n",
              "      <td>2022-12-08</td>\n",
              "      <td>50.180000</td>\n",
              "      <td>51.779999</td>\n",
              "      <td>-3.188519</td>\n",
              "      <td>0.428</td>\n",
              "      <td>-0.5390</td>\n",
              "      <td>0.113</td>\n",
              "    </tr>\n",
              "    <tr>\n",
              "      <th>7</th>\n",
              "      <td>Pfizer</td>\n",
              "      <td>2022-12-09</td>\n",
              "      <td>51.750000</td>\n",
              "      <td>51.720001</td>\n",
              "      <td>0.057969</td>\n",
              "      <td>0.212</td>\n",
              "      <td>-0.2410</td>\n",
              "      <td>0.546</td>\n",
              "    </tr>\n",
              "    <tr>\n",
              "      <th>8</th>\n",
              "      <td>Pfizer</td>\n",
              "      <td>2022-12-12</td>\n",
              "      <td>52.119999</td>\n",
              "      <td>52.160000</td>\n",
              "      <td>-0.076748</td>\n",
              "      <td>0.418</td>\n",
              "      <td>-0.0460</td>\n",
              "      <td>0.536</td>\n",
              "    </tr>\n",
              "    <tr>\n",
              "      <th>9</th>\n",
              "      <td>Pfizer</td>\n",
              "      <td>2022-12-13</td>\n",
              "      <td>53.099998</td>\n",
              "      <td>53.070000</td>\n",
              "      <td>0.056493</td>\n",
              "      <td>0.648</td>\n",
              "      <td>-0.0270</td>\n",
              "      <td>0.324</td>\n",
              "    </tr>\n",
              "    <tr>\n",
              "      <th>10</th>\n",
              "      <td>Meta</td>\n",
              "      <td>2022-12-07</td>\n",
              "      <td>113.760002</td>\n",
              "      <td>113.930000</td>\n",
              "      <td>-0.149436</td>\n",
              "      <td>0.007</td>\n",
              "      <td>-0.9300</td>\n",
              "      <td>0.084</td>\n",
              "    </tr>\n",
              "    <tr>\n",
              "      <th>11</th>\n",
              "      <td>Meta</td>\n",
              "      <td>2022-12-08</td>\n",
              "      <td>116.389999</td>\n",
              "      <td>115.330002</td>\n",
              "      <td>0.910729</td>\n",
              "      <td>0.402</td>\n",
              "      <td>-0.2010</td>\n",
              "      <td>0.538</td>\n",
              "    </tr>\n",
              "    <tr>\n",
              "      <th>12</th>\n",
              "      <td>Meta</td>\n",
              "      <td>2022-12-09</td>\n",
              "      <td>115.300003</td>\n",
              "      <td>115.900002</td>\n",
              "      <td>-0.520381</td>\n",
              "      <td>0.091</td>\n",
              "      <td>-0.7660</td>\n",
              "      <td>0.219</td>\n",
              "    </tr>\n",
              "    <tr>\n",
              "      <th>13</th>\n",
              "      <td>Meta</td>\n",
              "      <td>2022-12-12</td>\n",
              "      <td>115.180000</td>\n",
              "      <td>114.709999</td>\n",
              "      <td>0.408058</td>\n",
              "      <td>0.349</td>\n",
              "      <td>-0.2730</td>\n",
              "      <td>0.376</td>\n",
              "    </tr>\n",
              "    <tr>\n",
              "      <th>14</th>\n",
              "      <td>Meta</td>\n",
              "      <td>2022-12-13</td>\n",
              "      <td>122.129997</td>\n",
              "      <td>120.150002</td>\n",
              "      <td>1.621219</td>\n",
              "      <td>0.259</td>\n",
              "      <td>-0.4110</td>\n",
              "      <td>0.330</td>\n",
              "    </tr>\n",
              "    <tr>\n",
              "      <th>15</th>\n",
              "      <td>Nvidia</td>\n",
              "      <td>2022-12-07</td>\n",
              "      <td>157.720001</td>\n",
              "      <td>161.199997</td>\n",
              "      <td>-2.206439</td>\n",
              "      <td>0.012</td>\n",
              "      <td>-0.9540</td>\n",
              "      <td>0.031</td>\n",
              "    </tr>\n",
              "    <tr>\n",
              "      <th>16</th>\n",
              "      <td>Nvidia</td>\n",
              "      <td>2022-12-08</td>\n",
              "      <td>162.729996</td>\n",
              "      <td>171.690002</td>\n",
              "      <td>-5.506057</td>\n",
              "      <td>0.014</td>\n",
              "      <td>-0.6120</td>\n",
              "      <td>0.041</td>\n",
              "    </tr>\n",
              "    <tr>\n",
              "      <th>17</th>\n",
              "      <td>Nvidia</td>\n",
              "      <td>2022-12-09</td>\n",
              "      <td>171.600006</td>\n",
              "      <td>170.009995</td>\n",
              "      <td>0.926580</td>\n",
              "      <td>0.347</td>\n",
              "      <td>-0.9750</td>\n",
              "      <td>0.018</td>\n",
              "    </tr>\n",
              "    <tr>\n",
              "      <th>18</th>\n",
              "      <td>Nvidia</td>\n",
              "      <td>2022-12-12</td>\n",
              "      <td>170.369995</td>\n",
              "      <td>175.350006</td>\n",
              "      <td>-2.923056</td>\n",
              "      <td>0.297</td>\n",
              "      <td>-0.2495</td>\n",
              "      <td>0.446</td>\n",
              "    </tr>\n",
              "    <tr>\n",
              "      <th>19</th>\n",
              "      <td>Nvidia</td>\n",
              "      <td>2022-12-13</td>\n",
              "      <td>185.309998</td>\n",
              "      <td>180.720001</td>\n",
              "      <td>2.476929</td>\n",
              "      <td>0.442</td>\n",
              "      <td>-0.5315</td>\n",
              "      <td>0.027</td>\n",
              "    </tr>\n",
              "    <tr>\n",
              "      <th>20</th>\n",
              "      <td>Chevron</td>\n",
              "      <td>2022-12-07</td>\n",
              "      <td>171.059998</td>\n",
              "      <td>172.520004</td>\n",
              "      <td>-0.853505</td>\n",
              "      <td>0.024</td>\n",
              "      <td>-0.9470</td>\n",
              "      <td>0.029</td>\n",
              "    </tr>\n",
              "    <tr>\n",
              "      <th>21</th>\n",
              "      <td>Chevron</td>\n",
              "      <td>2022-12-08</td>\n",
              "      <td>176.250000</td>\n",
              "      <td>173.539993</td>\n",
              "      <td>1.537593</td>\n",
              "      <td>0.044</td>\n",
              "      <td>-0.9290</td>\n",
              "      <td>0.031</td>\n",
              "    </tr>\n",
              "    <tr>\n",
              "      <th>22</th>\n",
              "      <td>Chevron</td>\n",
              "      <td>2022-12-09</td>\n",
              "      <td>172.300003</td>\n",
              "      <td>168.000000</td>\n",
              "      <td>2.495649</td>\n",
              "      <td>0.075</td>\n",
              "      <td>-0.4970</td>\n",
              "      <td>0.428</td>\n",
              "    </tr>\n",
              "    <tr>\n",
              "      <th>23</th>\n",
              "      <td>Chevron</td>\n",
              "      <td>2022-12-12</td>\n",
              "      <td>168.929993</td>\n",
              "      <td>169.750000</td>\n",
              "      <td>-0.485412</td>\n",
              "      <td>0.581</td>\n",
              "      <td>-0.1650</td>\n",
              "      <td>0.254</td>\n",
              "    </tr>\n",
              "    <tr>\n",
              "      <th>24</th>\n",
              "      <td>Chevron</td>\n",
              "      <td>2022-12-13</td>\n",
              "      <td>173.570007</td>\n",
              "      <td>173.529999</td>\n",
              "      <td>0.023050</td>\n",
              "      <td>0.353</td>\n",
              "      <td>-0.0420</td>\n",
              "      <td>0.605</td>\n",
              "    </tr>\n",
              "  </tbody>\n",
              "</table>\n",
              "</div>\n",
              "      <button class=\"colab-df-convert\" onclick=\"convertToInteractive('df-b7005b7b-e5b3-4891-8911-d9cb56ae4958')\"\n",
              "              title=\"Convert this dataframe to an interactive table.\"\n",
              "              style=\"display:none;\">\n",
              "        \n",
              "  <svg xmlns=\"http://www.w3.org/2000/svg\" height=\"24px\"viewBox=\"0 0 24 24\"\n",
              "       width=\"24px\">\n",
              "    <path d=\"M0 0h24v24H0V0z\" fill=\"none\"/>\n",
              "    <path d=\"M18.56 5.44l.94 2.06.94-2.06 2.06-.94-2.06-.94-.94-2.06-.94 2.06-2.06.94zm-11 1L8.5 8.5l.94-2.06 2.06-.94-2.06-.94L8.5 2.5l-.94 2.06-2.06.94zm10 10l.94 2.06.94-2.06 2.06-.94-2.06-.94-.94-2.06-.94 2.06-2.06.94z\"/><path d=\"M17.41 7.96l-1.37-1.37c-.4-.4-.92-.59-1.43-.59-.52 0-1.04.2-1.43.59L10.3 9.45l-7.72 7.72c-.78.78-.78 2.05 0 2.83L4 21.41c.39.39.9.59 1.41.59.51 0 1.02-.2 1.41-.59l7.78-7.78 2.81-2.81c.8-.78.8-2.07 0-2.86zM5.41 20L4 18.59l7.72-7.72 1.47 1.35L5.41 20z\"/>\n",
              "  </svg>\n",
              "      </button>\n",
              "      \n",
              "  <style>\n",
              "    .colab-df-container {\n",
              "      display:flex;\n",
              "      flex-wrap:wrap;\n",
              "      gap: 12px;\n",
              "    }\n",
              "\n",
              "    .colab-df-convert {\n",
              "      background-color: #E8F0FE;\n",
              "      border: none;\n",
              "      border-radius: 50%;\n",
              "      cursor: pointer;\n",
              "      display: none;\n",
              "      fill: #1967D2;\n",
              "      height: 32px;\n",
              "      padding: 0 0 0 0;\n",
              "      width: 32px;\n",
              "    }\n",
              "\n",
              "    .colab-df-convert:hover {\n",
              "      background-color: #E2EBFA;\n",
              "      box-shadow: 0px 1px 2px rgba(60, 64, 67, 0.3), 0px 1px 3px 1px rgba(60, 64, 67, 0.15);\n",
              "      fill: #174EA6;\n",
              "    }\n",
              "\n",
              "    [theme=dark] .colab-df-convert {\n",
              "      background-color: #3B4455;\n",
              "      fill: #D2E3FC;\n",
              "    }\n",
              "\n",
              "    [theme=dark] .colab-df-convert:hover {\n",
              "      background-color: #434B5C;\n",
              "      box-shadow: 0px 1px 3px 1px rgba(0, 0, 0, 0.15);\n",
              "      filter: drop-shadow(0px 1px 2px rgba(0, 0, 0, 0.3));\n",
              "      fill: #FFFFFF;\n",
              "    }\n",
              "  </style>\n",
              "\n",
              "      <script>\n",
              "        const buttonEl =\n",
              "          document.querySelector('#df-b7005b7b-e5b3-4891-8911-d9cb56ae4958 button.colab-df-convert');\n",
              "        buttonEl.style.display =\n",
              "          google.colab.kernel.accessAllowed ? 'block' : 'none';\n",
              "\n",
              "        async function convertToInteractive(key) {\n",
              "          const element = document.querySelector('#df-b7005b7b-e5b3-4891-8911-d9cb56ae4958');\n",
              "          const dataTable =\n",
              "            await google.colab.kernel.invokeFunction('convertToInteractive',\n",
              "                                                     [key], {});\n",
              "          if (!dataTable) return;\n",
              "\n",
              "          const docLinkHtml = 'Like what you see? Visit the ' +\n",
              "            '<a target=\"_blank\" href=https://colab.research.google.com/notebooks/data_table.ipynb>data table notebook</a>'\n",
              "            + ' to learn more about interactive tables.';\n",
              "          element.innerHTML = '';\n",
              "          dataTable['output_type'] = 'display_data';\n",
              "          await google.colab.output.renderOutput(dataTable, element);\n",
              "          const docLink = document.createElement('div');\n",
              "          docLink.innerHTML = docLinkHtml;\n",
              "          element.appendChild(docLink);\n",
              "        }\n",
              "      </script>\n",
              "    </div>\n",
              "  </div>\n",
              "  "
            ]
          },
          "metadata": {},
          "execution_count": 24
        }
      ]
    },
    {
      "cell_type": "markdown",
      "source": [
        "To choose the proper value, we decided to select the score that had the greatest absolute value. To the user, the greatest score is the value that they would based their opinion on since for many of the plots, one score tends to outweigh the other by a significant amount."
      ],
      "metadata": {
        "id": "B0-yKGVrOpWu"
      }
    },
    {
      "cell_type": "code",
      "source": [
        "#Looping through and choosing the greatest score.\n",
        "table['Chosen Value'] = 0.0   \n",
        "\n",
        "for index, row in table.iterrows():\n",
        "    chosen_value = max([table.loc[index, 'Positive Score'],\n",
        "                        abs(table.loc[index, 'Negative Score']),\n",
        "                        table.loc[index, 'Neutral Score']])\n",
        "    if (chosen_value * -1) == table.loc[index, 'Negative Score']:\n",
        "      chosen_value *= -1\n",
        "    table.loc[index, 'Chosen Value'] = chosen_value"
      ],
      "metadata": {
        "id": "OdV3uaPSEWlh"
      },
      "execution_count": 25,
      "outputs": []
    },
    {
      "cell_type": "markdown",
      "source": [
        "#Hypothesis Test: Part 2\n",
        "Testing the Data"
      ],
      "metadata": {
        "id": "_JjhIqB1Eap2"
      }
    },
    {
      "cell_type": "markdown",
      "source": [
        "Null hypothesis: There is no relationship between the sentiment score and the stock price change.\n",
        "\n",
        "Alternate hypothesis: There is a relationship between the sentiment score and the stock price change."
      ],
      "metadata": {
        "id": "erkjXoaJEmmk"
      }
    },
    {
      "cell_type": "code",
      "source": [
        "#Creating a linear regression model for the sentiment score vs the stock change to determine \n",
        "#the correlation of the two values.\n",
        "linreg = linear_model.LinearRegression()\n",
        "x_vals = [[x] for x in table['Chosen Value'].values]\n",
        "y_vals = [[y] for y in table['Percent Change'].values]\n",
        "fit = linreg.fit(x_vals, y_vals)\n",
        "score = linreg.score(x_vals, y_vals)\n",
        "print('Coefficient: %f' % fit.coef_)\n",
        "print('Intercept: %.2f' % fit.intercept_)\n",
        "print('Regression Score: %.2f' % score)"
      ],
      "metadata": {
        "id": "WPrPkLCgEp46",
        "colab": {
          "base_uri": "https://localhost:8080/"
        },
        "outputId": "3854fd82-9f58-4d2d-e42d-1425be4ca5c3"
      },
      "execution_count": 26,
      "outputs": [
        {
          "output_type": "stream",
          "name": "stdout",
          "text": [
            "Coefficient: -0.066924\n",
            "Intercept: -0.31\n",
            "Regression Score: 0.00\n"
          ]
        }
      ]
    },
    {
      "cell_type": "code",
      "source": [
        "#Creating a plot to visually represent this model\n",
        "plt.figure(figsize=(10,5))\n",
        "plt.scatter(table['Chosen Value'], table['Percent Change'], c=['g' if x > 0 else 'r' for x in table['Chosen Value']])\n",
        "plt.xlabel(\"Sentiment Score\")\n",
        "plt.ylabel(\"Percent Change\")\n",
        "plt.title(\"Percent Change vs Sentiment Score\")\n",
        "\n",
        "plt.plot(x_vals, fit.intercept_ + (fit.coef_ * x_vals))\n",
        "\n",
        "plt.show()"
      ],
      "metadata": {
        "id": "jIBV1HtbEsUh",
        "colab": {
          "base_uri": "https://localhost:8080/",
          "height": 350
        },
        "outputId": "f41eec93-d479-423b-e119-994727355176"
      },
      "execution_count": 27,
      "outputs": [
        {
          "output_type": "display_data",
          "data": {
            "text/plain": [
              "<Figure size 720x360 with 1 Axes>"
            ],
            "image/png": "[encoded data removed]"
          },
          "metadata": {
            "needs_background": "light"
          }
        }
      ]
    },
    {
      "cell_type": "markdown",
      "source": [
        "We can not reject the null hypothesis because this linear regression model has an r-squared value of 0.00, showing that this test does not convey a relationship between the percent change and the predicted sentiment score. This lack of relationship could be rejected with other tests, but this test is not able to show any relationship between the sentiment score and percent change simply due to the lack of correlation between the data. The linear regression model was unable to produce any relationship value, and therefore led to this conclusion."
      ],
      "metadata": {
        "id": "QvMOK2flEsyc"
      }
    }
  ]
}